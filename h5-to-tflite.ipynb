{
 "cells": [
  {
   "cell_type": "code",
   "execution_count": 1,
   "metadata": {
    "execution": {
     "iopub.execute_input": "2020-12-24T14:11:04.972479Z",
     "iopub.status.busy": "2020-12-24T14:11:04.971262Z",
     "iopub.status.idle": "2020-12-24T14:11:04.974949Z",
     "shell.execute_reply": "2020-12-24T14:11:04.973855Z"
    },
    "papermill": {
     "duration": 0.033318,
     "end_time": "2020-12-24T14:11:04.975133",
     "exception": false,
     "start_time": "2020-12-24T14:11:04.941815",
     "status": "completed"
    },
    "tags": []
   },
   "outputs": [],
   "source": [
    "# This Python 3 environment comes with many helpful analytics libraries installed\n",
    "# It is defined by the kaggle/python Docker image: https://github.com/kaggle/docker-python\n",
    "# For example, here's several helpful packages to load\n",
    "\n",
    "import numpy as np # linear algebra\n",
    "import pandas as pd # data processing, CSV file I/O (e.g. pd.read_csv)\n",
    "\n",
    "# Input data files are available in the read-only \"../input/\" directory\n",
    "# For example, running this (by clicking run or pressing Shift+Enter) will list all files under the input directory\n",
    "\n",
    "import os\n",
    "for dirname, _, filenames in os.walk('/kaggle/input'):\n",
    "    for filename in filenames:\n",
    "        print(os.path.join(dirname, filename))\n",
    "\n",
    "# You can write up to 5GB to the current directory (/kaggle/working/) that gets preserved as output when you create a version using \"Save & Run All\" \n",
    "# You can also write temporary files to /kaggle/temp/, but they won't be saved outside of the current session"
   ]
  },
  {
   "cell_type": "code",
   "execution_count": 2,
   "metadata": {
    "execution": {
     "iopub.execute_input": "2020-12-24T14:11:05.035383Z",
     "iopub.status.busy": "2020-12-24T14:11:05.034197Z",
     "iopub.status.idle": "2020-12-24T14:11:12.460591Z",
     "shell.execute_reply": "2020-12-24T14:11:12.459857Z"
    },
    "papermill": {
     "duration": 7.456932,
     "end_time": "2020-12-24T14:11:12.460727",
     "exception": false,
     "start_time": "2020-12-24T14:11:05.003795",
     "status": "completed"
    },
    "tags": []
   },
   "outputs": [
    {
     "name": "stderr",
     "output_type": "stream",
     "text": [
      "Using TensorFlow backend.\n"
     ]
    }
   ],
   "source": [
    "import pandas as pd\n",
    "import seaborn\n",
    "import numpy as np\n",
    "import matplotlib.pyplot as plt \n",
    "from sklearn import datasets, preprocessing, metrics, model_selection, pipeline\n",
    "seaborn.set_style(\"white\")\n",
    "\n",
    "import tensorflow as tf\n",
    "import sys\n",
    "import keras\n",
    "import keras.backend as K\n",
    "\n",
    "%matplotlib inline"
   ]
  },
  {
   "cell_type": "code",
   "execution_count": 3,
   "metadata": {
    "execution": {
     "iopub.execute_input": "2020-12-24T14:11:12.509884Z",
     "iopub.status.busy": "2020-12-24T14:11:12.508862Z",
     "iopub.status.idle": "2020-12-24T14:11:12.512230Z",
     "shell.execute_reply": "2020-12-24T14:11:12.512842Z"
    },
    "papermill": {
     "duration": 0.030217,
     "end_time": "2020-12-24T14:11:12.512992",
     "exception": false,
     "start_time": "2020-12-24T14:11:12.482775",
     "status": "completed"
    },
    "tags": []
   },
   "outputs": [
    {
     "name": "stdout",
     "output_type": "stream",
     "text": [
      "2.1.0\n",
      "2.3.1\n"
     ]
    }
   ],
   "source": [
    "print(tf.__version__) \n",
    "print(keras.__version__) "
   ]
  },
  {
   "cell_type": "code",
   "execution_count": 4,
   "metadata": {
    "execution": {
     "iopub.execute_input": "2020-12-24T14:11:12.566110Z",
     "iopub.status.busy": "2020-12-24T14:11:12.565212Z",
     "iopub.status.idle": "2020-12-24T14:11:12.569535Z",
     "shell.execute_reply": "2020-12-24T14:11:12.568867Z"
    },
    "papermill": {
     "duration": 0.034983,
     "end_time": "2020-12-24T14:11:12.569658",
     "exception": false,
     "start_time": "2020-12-24T14:11:12.534675",
     "status": "completed"
    },
    "tags": []
   },
   "outputs": [
    {
     "data": {
      "text/plain": [
       "'/kaggle/working'"
      ]
     },
     "execution_count": 4,
     "metadata": {},
     "output_type": "execute_result"
    }
   ],
   "source": [
    "pwd"
   ]
  },
  {
   "cell_type": "code",
   "execution_count": 5,
   "metadata": {
    "execution": {
     "iopub.execute_input": "2020-12-24T14:11:12.619903Z",
     "iopub.status.busy": "2020-12-24T14:11:12.619104Z",
     "iopub.status.idle": "2020-12-24T14:11:12.750670Z",
     "shell.execute_reply": "2020-12-24T14:11:12.749928Z"
    },
    "papermill": {
     "duration": 0.158704,
     "end_time": "2020-12-24T14:11:12.750794",
     "exception": false,
     "start_time": "2020-12-24T14:11:12.592090",
     "status": "completed"
    },
    "tags": []
   },
   "outputs": [
    {
     "data": {
      "text/plain": [
       "(1797, 64)"
      ]
     },
     "execution_count": 5,
     "metadata": {},
     "output_type": "execute_result"
    }
   ],
   "source": [
    "#loading the daset\n",
    "digits=datasets.load_digits()\n",
    "X=digits.data\n",
    "X.shape"
   ]
  },
  {
   "cell_type": "code",
   "execution_count": 6,
   "metadata": {
    "execution": {
     "iopub.execute_input": "2020-12-24T14:11:12.803273Z",
     "iopub.status.busy": "2020-12-24T14:11:12.802145Z",
     "iopub.status.idle": "2020-12-24T14:11:12.806780Z",
     "shell.execute_reply": "2020-12-24T14:11:12.807652Z"
    },
    "papermill": {
     "duration": 0.034269,
     "end_time": "2020-12-24T14:11:12.807879",
     "exception": false,
     "start_time": "2020-12-24T14:11:12.773610",
     "status": "completed"
    },
    "tags": []
   },
   "outputs": [
    {
     "data": {
      "text/plain": [
       "(1797,)"
      ]
     },
     "execution_count": 6,
     "metadata": {},
     "output_type": "execute_result"
    }
   ],
   "source": [
    "#labels\n",
    "Y=digits.target\n",
    "Y.shape"
   ]
  },
  {
   "cell_type": "code",
   "execution_count": 7,
   "metadata": {
    "execution": {
     "iopub.execute_input": "2020-12-24T14:11:12.873108Z",
     "iopub.status.busy": "2020-12-24T14:11:12.872348Z",
     "iopub.status.idle": "2020-12-24T14:11:12.880059Z",
     "shell.execute_reply": "2020-12-24T14:11:12.880674Z"
    },
    "papermill": {
     "duration": 0.042011,
     "end_time": "2020-12-24T14:11:12.880832",
     "exception": false,
     "start_time": "2020-12-24T14:11:12.838821",
     "status": "completed"
    },
    "tags": []
   },
   "outputs": [],
   "source": [
    "#standardization of the data\n",
    "#axis=0 -> column\n",
    "#axis=1 -> row\n",
    "X_mean=np.mean(X,axis=1,keepdims=True)\n",
    "X_std=np.std(X,axis=1,keepdims=True)\n",
    "X=(X-X_mean)/X_std"
   ]
  },
  {
   "cell_type": "code",
   "execution_count": 8,
   "metadata": {
    "execution": {
     "iopub.execute_input": "2020-12-24T14:11:12.933203Z",
     "iopub.status.busy": "2020-12-24T14:11:12.932302Z",
     "iopub.status.idle": "2020-12-24T14:11:12.936744Z",
     "shell.execute_reply": "2020-12-24T14:11:12.936099Z"
    },
    "papermill": {
     "duration": 0.032381,
     "end_time": "2020-12-24T14:11:12.936874",
     "exception": false,
     "start_time": "2020-12-24T14:11:12.904493",
     "status": "completed"
    },
    "tags": []
   },
   "outputs": [],
   "source": [
    "#view the distribution of values\n",
    "#plt.hist(X.flat, bins=25, normed=True)\n",
    "#plt.ylabel(\"$p(bin_i)$\");\n",
    "#plt.ylabel(\"$bin_i$\");"
   ]
  },
  {
   "cell_type": "code",
   "execution_count": 9,
   "metadata": {
    "execution": {
     "iopub.execute_input": "2020-12-24T14:11:13.002538Z",
     "iopub.status.busy": "2020-12-24T14:11:13.001402Z",
     "iopub.status.idle": "2020-12-24T14:11:13.004903Z",
     "shell.execute_reply": "2020-12-24T14:11:13.005619Z"
    },
    "papermill": {
     "duration": 0.040875,
     "end_time": "2020-12-24T14:11:13.005831",
     "exception": false,
     "start_time": "2020-12-24T14:11:12.964956",
     "status": "completed"
    },
    "tags": []
   },
   "outputs": [],
   "source": [
    "def plot_images(x, **kwargs):\n",
    "    n_pix = int(np.sqrt(np.prod(X.shape[1:]))) #assumes images are square\n",
    "    im_indices = np.random.choice(len(x), 20)\n",
    "    fig, axes = plt.subplots(nrows=4,ncols=5, figsize=(5,5), sharex=True, sharey=True, frameon=False)\n",
    "    for i,ax in enumerate(axes.flat):\n",
    "        ax.get_xaxis().set_visible(False)\n",
    "        ax.get_yaxis().set_visible(False)\n",
    "        curr_i = im_indices[i]\n",
    "        ax.imshow(x[curr_i].reshape(n_pix,n_pix), aspect=\"equal\", **kwargs)\n",
    "        ax.axis('off')"
   ]
  },
  {
   "cell_type": "code",
   "execution_count": 10,
   "metadata": {
    "execution": {
     "iopub.execute_input": "2020-12-24T14:11:13.071159Z",
     "iopub.status.busy": "2020-12-24T14:11:13.070350Z",
     "iopub.status.idle": "2020-12-24T14:11:13.870571Z",
     "shell.execute_reply": "2020-12-24T14:11:13.871189Z"
    },
    "papermill": {
     "duration": 0.832912,
     "end_time": "2020-12-24T14:11:13.871346",
     "exception": false,
     "start_time": "2020-12-24T14:11:13.038434",
     "status": "completed"
    },
    "tags": []
   },
   "outputs": [
    {
     "data": {
      "image/png": "[encoded data removed]",
      "text/plain": [
       "<Figure size 360x360 with 20 Axes>"
      ]
     },
     "metadata": {
      "needs_background": "light"
     },
     "output_type": "display_data"
    }
   ],
   "source": [
    "plot_images(X, cmap=\"gray\", interpolation=\"spline16\")"
   ]
  },
  {
   "cell_type": "code",
   "execution_count": 11,
   "metadata": {
    "execution": {
     "iopub.execute_input": "2020-12-24T14:11:13.930440Z",
     "iopub.status.busy": "2020-12-24T14:11:13.929441Z",
     "iopub.status.idle": "2020-12-24T14:11:13.933741Z",
     "shell.execute_reply": "2020-12-24T14:11:13.933002Z"
    },
    "papermill": {
     "duration": 0.036506,
     "end_time": "2020-12-24T14:11:13.933865",
     "exception": false,
     "start_time": "2020-12-24T14:11:13.897359",
     "status": "completed"
    },
    "tags": []
   },
   "outputs": [],
   "source": [
    "#split the data to test and train data\n",
    "from sklearn.model_selection import train_test_split\n",
    "\n",
    "X_train,X_test,Y_train,Y_test=train_test_split(X,Y,test_size=0.2)"
   ]
  },
  {
   "cell_type": "code",
   "execution_count": 12,
   "metadata": {
    "execution": {
     "iopub.execute_input": "2020-12-24T14:11:13.996007Z",
     "iopub.status.busy": "2020-12-24T14:11:13.995034Z",
     "iopub.status.idle": "2020-12-24T14:11:14.000720Z",
     "shell.execute_reply": "2020-12-24T14:11:13.999924Z"
    },
    "papermill": {
     "duration": 0.040942,
     "end_time": "2020-12-24T14:11:14.000856",
     "exception": false,
     "start_time": "2020-12-24T14:11:13.959914",
     "status": "completed"
    },
    "tags": []
   },
   "outputs": [
    {
     "data": {
      "text/plain": [
       "(360, 64, 1)"
      ]
     },
     "execution_count": 12,
     "metadata": {},
     "output_type": "execute_result"
    }
   ],
   "source": [
    "#reshape data\n",
    "X_keras=X_train.reshape(1437,64,1)\n",
    "X_keras.shape\n",
    "X_keras_test=X_test.reshape(360,64,1)\n",
    "X_keras_test.shape"
   ]
  },
  {
   "cell_type": "code",
   "execution_count": 13,
   "metadata": {
    "execution": {
     "iopub.execute_input": "2020-12-24T14:11:14.064566Z",
     "iopub.status.busy": "2020-12-24T14:11:14.063714Z",
     "iopub.status.idle": "2020-12-24T14:11:14.231640Z",
     "shell.execute_reply": "2020-12-24T14:11:14.230520Z"
    },
    "papermill": {
     "duration": 0.203981,
     "end_time": "2020-12-24T14:11:14.231847",
     "exception": false,
     "start_time": "2020-12-24T14:11:14.027866",
     "status": "completed"
    },
    "tags": []
   },
   "outputs": [
    {
     "name": "stdout",
     "output_type": "stream",
     "text": [
      "Model: \"sequential_1\"\n",
      "_________________________________________________________________\n",
      "Layer (type)                 Output Shape              Param #   \n",
      "=================================================================\n",
      "conv1d_1 (Conv1D)            (None, 63, 64)            192       \n",
      "_________________________________________________________________\n",
      "max_pooling1d_1 (MaxPooling1 (None, 31, 64)            0         \n",
      "_________________________________________________________________\n",
      "flatten_1 (Flatten)          (None, 1984)              0         \n",
      "_________________________________________________________________\n",
      "dense_1 (Dense)              (None, 100)               198500    \n",
      "_________________________________________________________________\n",
      "dense_2 (Dense)              (None, 64)                6464      \n",
      "_________________________________________________________________\n",
      "dense_3 (Dense)              (None, 10)                650       \n",
      "=================================================================\n",
      "Total params: 205,806\n",
      "Trainable params: 205,806\n",
      "Non-trainable params: 0\n",
      "_________________________________________________________________\n"
     ]
    }
   ],
   "source": [
    "# Create a Keras Sequential model\n",
    "# We do this by passing a list of layers to the Sequential model\n",
    "\n",
    "model = keras.Sequential([\n",
    "    keras.layers.Conv1D(filters=64,kernel_size=2,input_shape=(64,1)),\n",
    "   # keras.layers.Dropout(0.2),\n",
    "    keras.layers.MaxPool1D(pool_size=2),\n",
    "    keras.layers.Flatten(),\n",
    "    keras.layers.Dense(100 ,activation=\"relu\"),\n",
    "    keras.layers.Dense(64 ,activation=\"relu\"),\n",
    "    #keras.layers.Dense(32 ,activation=\"relu\"),\n",
    "    \n",
    "    #keras.layers.Flatten(),\n",
    "    keras.layers.Dense(10, activation=\"softmax\")\n",
    "])\n",
    "\n",
    "model.summary() #summary provides an at-a-glance look at the model we've built"
   ]
  },
  {
   "cell_type": "code",
   "execution_count": 14,
   "metadata": {
    "execution": {
     "iopub.execute_input": "2020-12-24T14:11:14.295659Z",
     "iopub.status.busy": "2020-12-24T14:11:14.294861Z",
     "iopub.status.idle": "2020-12-24T14:11:14.327113Z",
     "shell.execute_reply": "2020-12-24T14:11:14.327715Z"
    },
    "papermill": {
     "duration": 0.067588,
     "end_time": "2020-12-24T14:11:14.327898",
     "exception": false,
     "start_time": "2020-12-24T14:11:14.260310",
     "status": "completed"
    },
    "tags": []
   },
   "outputs": [],
   "source": [
    "acc_list=[]\n",
    "# Compile the network\n",
    "model.compile(\"nadam\", \"sparse_categorical_crossentropy\", metrics=[\"acc\"])\n"
   ]
  },
  {
   "cell_type": "code",
   "execution_count": 15,
   "metadata": {
    "execution": {
     "iopub.execute_input": "2020-12-24T14:11:14.395989Z",
     "iopub.status.busy": "2020-12-24T14:11:14.395143Z",
     "iopub.status.idle": "2020-12-24T14:11:17.670719Z",
     "shell.execute_reply": "2020-12-24T14:11:17.669911Z"
    },
    "papermill": {
     "duration": 3.313697,
     "end_time": "2020-12-24T14:11:17.670846",
     "exception": false,
     "start_time": "2020-12-24T14:11:14.357149",
     "status": "completed"
    },
    "tags": []
   },
   "outputs": [
    {
     "name": "stdout",
     "output_type": "stream",
     "text": [
      "360/360 [==============================] - 0s 61us/step\n"
     ]
    }
   ],
   "source": [
    "\n",
    "model.fit(X_keras,Y_train,epochs=30,\n",
    "    validation_split=0.25, verbose=0,callbacks=[ keras.callbacks.ReduceLROnPlateau(\n",
    "        factor=.5, patience=1, min_lr=1e-7, verbose=0),\n",
    "    keras.callbacks.EarlyStopping(patience=4, verbose=0)])\n",
    " \n",
    "acc = model.evaluate(X_keras_test,Y_test)\n",
    "acc_list.append(acc)"
   ]
  },
  {
   "cell_type": "code",
   "execution_count": 16,
   "metadata": {
    "execution": {
     "iopub.execute_input": "2020-12-24T14:11:17.733870Z",
     "iopub.status.busy": "2020-12-24T14:11:17.733093Z",
     "iopub.status.idle": "2020-12-24T14:11:17.736136Z",
     "shell.execute_reply": "2020-12-24T14:11:17.736783Z"
    },
    "papermill": {
     "duration": 0.03757,
     "end_time": "2020-12-24T14:11:17.736939",
     "exception": false,
     "start_time": "2020-12-24T14:11:17.699369",
     "status": "completed"
    },
    "tags": []
   },
   "outputs": [
    {
     "name": "stdout",
     "output_type": "stream",
     "text": [
      "[[0.0793027599238687, 0.980555534362793]]\n"
     ]
    }
   ],
   "source": [
    "print(acc_list)"
   ]
  },
  {
   "cell_type": "code",
   "execution_count": 17,
   "metadata": {
    "execution": {
     "iopub.execute_input": "2020-12-24T14:11:17.805029Z",
     "iopub.status.busy": "2020-12-24T14:11:17.803913Z",
     "iopub.status.idle": "2020-12-24T14:11:17.835969Z",
     "shell.execute_reply": "2020-12-24T14:11:17.835297Z"
    },
    "papermill": {
     "duration": 0.070427,
     "end_time": "2020-12-24T14:11:17.836137",
     "exception": false,
     "start_time": "2020-12-24T14:11:17.765710",
     "status": "completed"
    },
    "tags": []
   },
   "outputs": [],
   "source": [
    "#save the model\n",
    "model.save('my_model.h5')"
   ]
  },
  {
   "cell_type": "code",
   "execution_count": 18,
   "metadata": {
    "execution": {
     "iopub.execute_input": "2020-12-24T14:11:17.907158Z",
     "iopub.status.busy": "2020-12-24T14:11:17.905624Z",
     "iopub.status.idle": "2020-12-24T14:11:22.382187Z",
     "shell.execute_reply": "2020-12-24T14:11:22.381590Z"
    },
    "papermill": {
     "duration": 4.516933,
     "end_time": "2020-12-24T14:11:22.382318",
     "exception": false,
     "start_time": "2020-12-24T14:11:17.865385",
     "status": "completed"
    },
    "tags": []
   },
   "outputs": [
    {
     "data": {
      "text/plain": [
       "826132"
      ]
     },
     "execution_count": 18,
     "metadata": {},
     "output_type": "execute_result"
    }
   ],
   "source": [
    "#convert keras model to tflite\n",
    "model = tf.keras.models.load_model('my_model.h5')\n",
    "converter = tf.lite.TFLiteConverter.from_keras_model(model)\n",
    "tflite_model = converter.convert()\n",
    "open(\"converted_model.tflite\", \"wb\").write(tflite_model)"
   ]
  },
  {
   "cell_type": "code",
   "execution_count": 19,
   "metadata": {
    "execution": {
     "iopub.execute_input": "2020-12-24T14:11:22.449026Z",
     "iopub.status.busy": "2020-12-24T14:11:22.448161Z",
     "iopub.status.idle": "2020-12-24T14:11:23.168441Z",
     "shell.execute_reply": "2020-12-24T14:11:23.167501Z"
    },
    "papermill": {
     "duration": 0.756584,
     "end_time": "2020-12-24T14:11:23.168643",
     "exception": false,
     "start_time": "2020-12-24T14:11:22.412059",
     "status": "completed"
    },
    "tags": []
   },
   "outputs": [
    {
     "ename": "NameError",
     "evalue": "name 'countint' is not defined",
     "output_type": "error",
     "traceback": [
      "\u001b[0;31m---------------------------------------------------------------------------\u001b[0m",
      "\u001b[0;31mNameError\u001b[0m                                 Traceback (most recent call last)",
      "\u001b[0;32m<ipython-input-19-75cdd5e66f08>\u001b[0m in \u001b[0;36m<module>\u001b[0;34m\u001b[0m\n\u001b[1;32m      1\u001b[0m \u001b[0;31m#get text file of the labels\u001b[0m\u001b[0;34m\u001b[0m\u001b[0;34m\u001b[0m\u001b[0;34m\u001b[0m\u001b[0m\n\u001b[1;32m      2\u001b[0m \u001b[0mf\u001b[0m\u001b[0;34m=\u001b[0m \u001b[0mopen\u001b[0m\u001b[0;34m(\u001b[0m\u001b[0;34m'labels.txt'\u001b[0m\u001b[0;34m,\u001b[0m\u001b[0;34m'w'\u001b[0m\u001b[0;34m)\u001b[0m\u001b[0;34m\u001b[0m\u001b[0;34m\u001b[0m\u001b[0m\n\u001b[0;32m----> 3\u001b[0;31m \u001b[0;32mfor\u001b[0m \u001b[0mi\u001b[0m \u001b[0;32min\u001b[0m \u001b[0mcountint\u001b[0m\u001b[0;34m.\u001b[0m\u001b[0mindex\u001b[0m\u001b[0;34m:\u001b[0m\u001b[0;34m\u001b[0m\u001b[0;34m\u001b[0m\u001b[0m\n\u001b[0m\u001b[1;32m      4\u001b[0m     \u001b[0mf\u001b[0m\u001b[0;34m.\u001b[0m\u001b[0mwrite\u001b[0m\u001b[0;34m(\u001b[0m\u001b[0mstr\u001b[0m\u001b[0;34m(\u001b[0m\u001b[0mi\u001b[0m\u001b[0;34m)\u001b[0m\u001b[0;34m+\u001b[0m\u001b[0;34m\"\\n\"\u001b[0m\u001b[0;34m)\u001b[0m\u001b[0;34m\u001b[0m\u001b[0;34m\u001b[0m\u001b[0m\n",
      "\u001b[0;31mNameError\u001b[0m: name 'countint' is not defined"
     ]
    }
   ],
   "source": [
    "\n",
    "#get text file of the labels \n",
    "f= open('labels.txt','w')\n",
    "for i in countint.index:\n",
    "    f.write(str(i)+\"\\n\")"
   ]
  },
  {
   "cell_type": "code",
   "execution_count": 20,
   "metadata": {
    "execution": {
     "iopub.execute_input": "2020-12-24T14:11:23.261937Z",
     "iopub.status.busy": "2020-12-24T14:11:23.261104Z",
     "iopub.status.idle": "2020-12-24T14:11:23.265774Z",
     "shell.execute_reply": "2020-12-24T14:11:23.264583Z"
    },
    "papermill": {
     "duration": 0.053274,
     "end_time": "2020-12-24T14:11:23.265940",
     "exception": false,
     "start_time": "2020-12-24T14:11:23.212666",
     "status": "completed"
    },
    "tags": []
   },
   "outputs": [],
   "source": [
    "#YY=pd.DataFrame(Y,columns=['count'])\n",
    "#countt=YY.groupby('count').count()\n",
    "#countint=pd.DataFrame(countt)\n",
    "#countint.index"
   ]
  },
  {
   "cell_type": "code",
   "execution_count": null,
   "metadata": {
    "papermill": {
     "duration": 0.0371,
     "end_time": "2020-12-24T14:11:23.347490",
     "exception": false,
     "start_time": "2020-12-24T14:11:23.310390",
     "status": "completed"
    },
    "tags": []
   },
   "outputs": [],
   "source": []
  },
  {
   "cell_type": "code",
   "execution_count": null,
   "metadata": {
    "papermill": {
     "duration": 0.029991,
     "end_time": "2020-12-24T14:11:23.408338",
     "exception": false,
     "start_time": "2020-12-24T14:11:23.378347",
     "status": "completed"
    },
    "tags": []
   },
   "outputs": [],
   "source": []
  },
  {
   "cell_type": "code",
   "execution_count": null,
   "metadata": {
    "papermill": {
     "duration": 0.030121,
     "end_time": "2020-12-24T14:11:23.468789",
     "exception": false,
     "start_time": "2020-12-24T14:11:23.438668",
     "status": "completed"
    },
    "tags": []
   },
   "outputs": [],
   "source": []
  },
  {
   "cell_type": "code",
   "execution_count": null,
   "metadata": {
    "papermill": {
     "duration": 0.030087,
     "end_time": "2020-12-24T14:11:23.529397",
     "exception": false,
     "start_time": "2020-12-24T14:11:23.499310",
     "status": "completed"
    },
    "tags": []
   },
   "outputs": [],
   "source": []
  },
  {
   "cell_type": "code",
   "execution_count": null,
   "metadata": {
    "papermill": {
     "duration": 0.030199,
     "end_time": "2020-12-24T14:11:23.589958",
     "exception": false,
     "start_time": "2020-12-24T14:11:23.559759",
     "status": "completed"
    },
    "tags": []
   },
   "outputs": [],
   "source": []
  },
  {
   "cell_type": "code",
   "execution_count": null,
   "metadata": {
    "papermill": {
     "duration": 0.03003,
     "end_time": "2020-12-24T14:11:23.650333",
     "exception": false,
     "start_time": "2020-12-24T14:11:23.620303",
     "status": "completed"
    },
    "tags": []
   },
   "outputs": [],
   "source": []
  }
 ],
 "metadata": {
  "kernelspec": {
   "display_name": "Python 3",
   "language": "python",
   "name": "python3"
  },
  "language_info": {
   "codemirror_mode": {
    "name": "ipython",
    "version": 3
   },
   "file_extension": ".py",
   "mimetype": "text/x-python",
   "name": "python",
   "nbconvert_exporter": "python",
   "pygments_lexer": "ipython3",
   "version": "3.7.6"
  },
  "papermill": {
   "duration": 23.976297,
   "end_time": "2020-12-24T14:11:23.789217",
   "environment_variables": {},
   "exception": null,
   "input_path": "__notebook__.ipynb",
   "output_path": "__notebook__.ipynb",
   "parameters": {},
   "start_time": "2020-12-24T14:10:59.812920",
   "version": "2.1.0"
  }
 },
 "nbformat": 4,
 "nbformat_minor": 4
}
